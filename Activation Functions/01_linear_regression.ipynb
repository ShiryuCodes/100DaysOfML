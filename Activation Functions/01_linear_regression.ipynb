{
  "nbformat": 4,
  "nbformat_minor": 0,
  "metadata": {
    "colab": {
      "provenance": []
    },
    "kernelspec": {
      "name": "python3",
      "display_name": "Python 3"
    },
    "language_info": {
      "name": "python"
    }
  },
  "cells": [
    {
      "cell_type": "markdown",
      "source": [
        "# How do we proceed??\n",
        "\n",
        "1. Design the Model (input and ouptut size, forward pass)\n",
        "2. Construct loss and optimizer\n",
        "3. Training loop\n",
        "    - Forward pass: compute prediction\n",
        "    - Backward pass: gradients\n",
        "    - Update weights"
      ],
      "metadata": {
        "id": "ksHAiJwshb6o"
      }
    },
    {
      "cell_type": "code",
      "source": [
        "import torch\n",
        "import torch.nn as nn\n",
        "import numpy as np\n",
        "from sklearn import datasets\n",
        "import matplotlib.pyplot as plt"
      ],
      "metadata": {
        "id": "kNn-Hq8ikmWC"
      },
      "execution_count": 15,
      "outputs": []
    },
    {
      "cell_type": "code",
      "source": [
        "# 0. Prepare the Data\n",
        "x_values = [i for i in range(11)]\n",
        "x_values"
      ],
      "metadata": {
        "colab": {
          "base_uri": "https://localhost:8080/"
        },
        "id": "V-5kyN8NpMck",
        "outputId": "a4a77bae-f054-40f0-94b8-8d5c9d2b1b04"
      },
      "execution_count": 3,
      "outputs": [
        {
          "output_type": "execute_result",
          "data": {
            "text/plain": [
              "[0, 1, 2, 3, 4, 5, 6, 7, 8, 9, 10]"
            ]
          },
          "metadata": {},
          "execution_count": 3
        }
      ]
    },
    {
      "cell_type": "code",
      "source": [
        "X_train = np.array(x_values, dtype = np.float32).reshape(-1, 1)  # convert into numpy array\n",
        "X_train.shape"
      ],
      "metadata": {
        "colab": {
          "base_uri": "https://localhost:8080/"
        },
        "id": "_mKSq65vpRGy",
        "outputId": "0dba38eb-76d1-4754-f583-db78dca35220"
      },
      "execution_count": 32,
      "outputs": [
        {
          "output_type": "execute_result",
          "data": {
            "text/plain": [
              "(11, 1)"
            ]
          },
          "metadata": {},
          "execution_count": 32
        }
      ]
    },
    {
      "cell_type": "code",
      "source": [
        "y_values = [2*i+1 for i in x_values]\n",
        "y_values"
      ],
      "metadata": {
        "colab": {
          "base_uri": "https://localhost:8080/"
        },
        "id": "-1qiw0wPs3vE",
        "outputId": "fd71ea6a-006e-47aa-9c72-bc890e111ccf"
      },
      "execution_count": 12,
      "outputs": [
        {
          "output_type": "execute_result",
          "data": {
            "text/plain": [
              "[1, 3, 5, 7, 9, 11, 13, 15, 17, 19, 21]"
            ]
          },
          "metadata": {},
          "execution_count": 12
        }
      ]
    },
    {
      "cell_type": "code",
      "source": [
        "y_train = np.array(y_values, dtype = np.float32)\n",
        "y_train"
      ],
      "metadata": {
        "colab": {
          "base_uri": "https://localhost:8080/"
        },
        "id": "KhmcakpguFf3",
        "outputId": "3cc3e259-55f0-48c7-d4f3-1e5efef400f9"
      },
      "execution_count": 22,
      "outputs": [
        {
          "output_type": "execute_result",
          "data": {
            "text/plain": [
              "array([ 1.,  3.,  5.,  7.,  9., 11., 13., 15., 17., 19., 21.],\n",
              "      dtype=float32)"
            ]
          },
          "metadata": {},
          "execution_count": 22
        }
      ]
    },
    {
      "cell_type": "code",
      "source": [
        "y_train = y_train.reshape(-1, 1)\n",
        "y_train"
      ],
      "metadata": {
        "colab": {
          "base_uri": "https://localhost:8080/"
        },
        "id": "7a_pBReVucTY",
        "outputId": "8a18c31c-22ad-4d7e-83d7-dd97b4904611"
      },
      "execution_count": 23,
      "outputs": [
        {
          "output_type": "execute_result",
          "data": {
            "text/plain": [
              "array([[ 1.],\n",
              "       [ 3.],\n",
              "       [ 5.],\n",
              "       [ 7.],\n",
              "       [ 9.],\n",
              "       [11.],\n",
              "       [13.],\n",
              "       [15.],\n",
              "       [17.],\n",
              "       [19.],\n",
              "       [21.]], dtype=float32)"
            ]
          },
          "metadata": {},
          "execution_count": 23
        }
      ]
    },
    {
      "cell_type": "code",
      "source": [
        "# 1. build the model\n",
        "\n",
        "class LinearRegressionModel(nn.Module):\n",
        "  def __init__(self, input_dim, output_dim):\n",
        "    super(LinearRegressionModel, self).__init__()\n",
        "\n",
        "    self.linear = nn.Linear(input_dim, output_dim)\n",
        "\n",
        "  def forward(self, x):\n",
        "    return self.linear(x)"
      ],
      "metadata": {
        "id": "bOAk1s8juktt"
      },
      "execution_count": 16,
      "outputs": []
    },
    {
      "cell_type": "code",
      "source": [
        "# instantiate the model\n",
        "input_dim = 1\n",
        "output_dim = 1\n",
        "\n",
        "model = LinearRegressionModel(input_dim, output_dim)"
      ],
      "metadata": {
        "id": "-N7xD5g-wocn"
      },
      "execution_count": 17,
      "outputs": []
    },
    {
      "cell_type": "code",
      "source": [
        "# instantiate the loss\n",
        "loss_fn = nn.MSELoss()\n",
        "\n",
        "# optimizer\n",
        "optimizer = torch.optim.SGD(model.parameters(), lr = 0.01)"
      ],
      "metadata": {
        "id": "HXcxefsFw1H_"
      },
      "execution_count": 18,
      "outputs": []
    },
    {
      "cell_type": "code",
      "source": [
        "# train the model\n",
        "epochs = 100\n",
        "\n",
        "for epoch in range(epochs):\n",
        "  epoch += 1\n",
        "  # Convert numpy array to tensors\n",
        "  inputs = torch.from_numpy(X_train).requires_grad_()\n",
        "  labels = torch.from_numpy(y_train)\n",
        "\n",
        "  # Forward to get output\n",
        "  outputs = model(inputs)\n",
        "\n",
        "  # Calculate Loss\n",
        "  loss = loss_fn(outputs, labels)\n",
        "\n",
        "  # Clear gradients w.r.t. parameters\n",
        "  optimizer.zero_grad() # PyTorch accumulates gradients by default, so we clear old gradients before computing new ones.\n",
        "\n",
        "  # Getting gradients w.r.t. parameters\n",
        "  loss.backward()\n",
        "\n",
        "  # Updating parameters\n",
        "  optimizer.step()\n",
        "\n",
        "  print('epoch {}, loss {}'.format(epoch, loss.item()))\n"
      ],
      "metadata": {
        "colab": {
          "base_uri": "https://localhost:8080/"
        },
        "id": "KsqyhGwLyNZI",
        "outputId": "2c77eb71-ce27-4eae-e3c5-91563b19412d"
      },
      "execution_count": 33,
      "outputs": [
        {
          "output_type": "stream",
          "name": "stdout",
          "text": [
            "epoch 1, loss 258.1175842285156\n",
            "epoch 2, loss 21.12087059020996\n",
            "epoch 3, loss 1.7890411615371704\n",
            "epoch 4, loss 0.21146449446678162\n",
            "epoch 5, loss 0.08205517381429672\n",
            "epoch 6, loss 0.07077578455209732\n",
            "epoch 7, loss 0.06914009898900986\n",
            "epoch 8, loss 0.06829910725355148\n",
            "epoch 9, loss 0.06753093749284744\n",
            "epoch 10, loss 0.06677624583244324\n",
            "epoch 11, loss 0.06603050976991653\n",
            "epoch 12, loss 0.06529306620359421\n",
            "epoch 13, loss 0.0645640566945076\n",
            "epoch 14, loss 0.0638430118560791\n",
            "epoch 15, loss 0.06313019245862961\n",
            "epoch 16, loss 0.062425125390291214\n",
            "epoch 17, loss 0.06172816455364227\n",
            "epoch 18, loss 0.061038851737976074\n",
            "epoch 19, loss 0.06035729497671127\n",
            "epoch 20, loss 0.05968320742249489\n",
            "epoch 21, loss 0.05901670828461647\n",
            "epoch 22, loss 0.05835764482617378\n",
            "epoch 23, loss 0.05770602077245712\n",
            "epoch 24, loss 0.05706164613366127\n",
            "epoch 25, loss 0.05642441660165787\n",
            "epoch 26, loss 0.05579424276947975\n",
            "epoch 27, loss 0.055171240121126175\n",
            "epoch 28, loss 0.05455518141388893\n",
            "epoch 29, loss 0.05394606292247772\n",
            "epoch 30, loss 0.053343500941991806\n",
            "epoch 31, loss 0.05274797976016998\n",
            "epoch 32, loss 0.052158936858177185\n",
            "epoch 33, loss 0.0515764094889164\n",
            "epoch 34, loss 0.051000479608774185\n",
            "epoch 35, loss 0.05043089762330055\n",
            "epoch 36, loss 0.04986772686243057\n",
            "epoch 37, loss 0.04931099712848663\n",
            "epoch 38, loss 0.04876025766134262\n",
            "epoch 39, loss 0.04821580648422241\n",
            "epoch 40, loss 0.047677431255578995\n",
            "epoch 41, loss 0.047145042568445206\n",
            "epoch 42, loss 0.046618517488241196\n",
            "epoch 43, loss 0.0460980162024498\n",
            "epoch 44, loss 0.04558315500617027\n",
            "epoch 45, loss 0.045074108988046646\n",
            "epoch 46, loss 0.04457082971930504\n",
            "epoch 47, loss 0.044073037803173065\n",
            "epoch 48, loss 0.043580904603004456\n",
            "epoch 49, loss 0.04309428110718727\n",
            "epoch 50, loss 0.04261307045817375\n",
            "epoch 51, loss 0.042137179523706436\n",
            "epoch 52, loss 0.04166663810610771\n",
            "epoch 53, loss 0.041201282292604446\n",
            "epoch 54, loss 0.040741290897130966\n",
            "epoch 55, loss 0.04028632119297981\n",
            "epoch 56, loss 0.03983648121356964\n",
            "epoch 57, loss 0.039391662925481796\n",
            "epoch 58, loss 0.03895178809762001\n",
            "epoch 59, loss 0.03851671144366264\n",
            "epoch 60, loss 0.03808662295341492\n",
            "epoch 61, loss 0.037661369889974594\n",
            "epoch 62, loss 0.03724087402224541\n",
            "epoch 63, loss 0.03682493418455124\n",
            "epoch 64, loss 0.03641373664140701\n",
            "epoch 65, loss 0.036007072776556015\n",
            "epoch 66, loss 0.035605013370513916\n",
            "epoch 67, loss 0.03520742431282997\n",
            "epoch 68, loss 0.034814294427633286\n",
            "epoch 69, loss 0.034425463527441025\n",
            "epoch 70, loss 0.03404102846980095\n",
            "epoch 71, loss 0.03366086632013321\n",
            "epoch 72, loss 0.03328503668308258\n",
            "epoch 73, loss 0.03291342779994011\n",
            "epoch 74, loss 0.032545819878578186\n",
            "epoch 75, loss 0.03218245878815651\n",
            "epoch 76, loss 0.0318230502307415\n",
            "epoch 77, loss 0.03146761283278465\n",
            "epoch 78, loss 0.03111630119383335\n",
            "epoch 79, loss 0.030768776312470436\n",
            "epoch 80, loss 0.03042510896921158\n",
            "epoch 81, loss 0.03008541278541088\n",
            "epoch 82, loss 0.029749471694231033\n",
            "epoch 83, loss 0.02941730059683323\n",
            "epoch 84, loss 0.02908875234425068\n",
            "epoch 85, loss 0.02876386046409607\n",
            "epoch 86, loss 0.02844271808862686\n",
            "epoch 87, loss 0.028125138953328133\n",
            "epoch 88, loss 0.027811039239168167\n",
            "epoch 89, loss 0.027500512078404427\n",
            "epoch 90, loss 0.027193348854780197\n",
            "epoch 91, loss 0.026889771223068237\n",
            "epoch 92, loss 0.0265894066542387\n",
            "epoch 93, loss 0.026292532682418823\n",
            "epoch 94, loss 0.025998922064900398\n",
            "epoch 95, loss 0.02570866234600544\n",
            "epoch 96, loss 0.025421537458896637\n",
            "epoch 97, loss 0.025137679651379585\n",
            "epoch 98, loss 0.02485688403248787\n",
            "epoch 99, loss 0.024579375982284546\n",
            "epoch 100, loss 0.024304896593093872\n"
          ]
        }
      ]
    },
    {
      "cell_type": "code",
      "source": [
        "# Purely inference\n",
        "predicted = model(torch.from_numpy(X_train).requires_grad_()).data.numpy()\n",
        "predicted"
      ],
      "metadata": {
        "colab": {
          "base_uri": "https://localhost:8080/"
        },
        "id": "yPAd2aCu015w",
        "outputId": "49e3c8ca-fe22-4c85-f86e-253930088031"
      },
      "execution_count": 35,
      "outputs": [
        {
          "output_type": "execute_result",
          "data": {
            "text/plain": [
              "array([[ 0.7099939],\n",
              "       [ 2.7517574],\n",
              "       [ 4.793521 ],\n",
              "       [ 6.8352847],\n",
              "       [ 8.8770485],\n",
              "       [10.918812 ],\n",
              "       [12.960576 ],\n",
              "       [15.002339 ],\n",
              "       [17.044102 ],\n",
              "       [19.085865 ],\n",
              "       [21.127628 ]], dtype=float32)"
            ]
          },
          "metadata": {},
          "execution_count": 35
        }
      ]
    },
    {
      "cell_type": "code",
      "source": [
        "y_train"
      ],
      "metadata": {
        "colab": {
          "base_uri": "https://localhost:8080/"
        },
        "id": "T_zebpF_5Ycm",
        "outputId": "a2036077-0589-4e20-ea3c-779f6f7b3625"
      },
      "execution_count": 36,
      "outputs": [
        {
          "output_type": "execute_result",
          "data": {
            "text/plain": [
              "array([[ 1.],\n",
              "       [ 3.],\n",
              "       [ 5.],\n",
              "       [ 7.],\n",
              "       [ 9.],\n",
              "       [11.],\n",
              "       [13.],\n",
              "       [15.],\n",
              "       [17.],\n",
              "       [19.],\n",
              "       [21.]], dtype=float32)"
            ]
          },
          "metadata": {},
          "execution_count": 36
        }
      ]
    },
    {
      "cell_type": "code",
      "source": [
        "# Clear figure\n",
        "plt.clf()\n",
        "\n",
        "# Get predictions\n",
        "predicted = model(torch.from_numpy(X_train).requires_grad_()).data.numpy()\n",
        "\n",
        "# Plot true data\n",
        "plt.plot(X_train, y_train, 'go', label='True data', alpha=0.5)\n",
        "\n",
        "# Plot predictions\n",
        "plt.plot(X_train, predicted, '--', label='Predictions', alpha=0.5)\n",
        "\n",
        "# Legend and plot\n",
        "plt.legend(loc='best')\n",
        "plt.show()"
      ],
      "metadata": {
        "colab": {
          "base_uri": "https://localhost:8080/",
          "height": 430
        },
        "id": "jUjmzULI5daR",
        "outputId": "1a837511-b25f-4de1-a56f-5f352999536d"
      },
      "execution_count": 37,
      "outputs": [
        {
          "output_type": "display_data",
          "data": {
            "text/plain": [
              "<Figure size 640x480 with 1 Axes>"
            ],
            "image/png": "[encoded data removed]"
          },
          "metadata": {}
        }
      ]
    },
    {
      "cell_type": "code",
      "source": [],
      "metadata": {
        "id": "NRCqItgh6NI_"
      },
      "execution_count": null,
      "outputs": []
    }
  ]
}