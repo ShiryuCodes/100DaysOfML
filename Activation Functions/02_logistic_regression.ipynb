{
  "nbformat": 4,
  "nbformat_minor": 0,
  "metadata": {
    "colab": {
      "provenance": []
    },
    "kernelspec": {
      "name": "python3",
      "display_name": "Python 3"
    },
    "language_info": {
      "name": "python"
    }
  },
  "cells": [
    {
      "cell_type": "code",
      "execution_count": 42,
      "metadata": {
        "id": "nzYwhAzQ6o46"
      },
      "outputs": [],
      "source": [
        "import torch\n",
        "import numpy as np\n",
        "import torch.nn as nn\n",
        "from sklearn import datasets\n",
        "from sklearn.preprocessing import StandardScaler  # for feature scaling\n",
        "from sklearn.model_selection import train_test_split  # for train/test split"
      ]
    },
    {
      "cell_type": "code",
      "source": [
        "# Prepare the data\n",
        "bc = datasets.load_breast_cancer()  # we download a small dataset already available\n",
        "X, y = bc.data, bc.target\n",
        "\n",
        "n_samples, n_features = X.shape\n",
        "print(f'number of samples: {n_samples}, number of features: {n_features}')\n",
        "\n",
        "# Split the data\n",
        "X_train, X_test, y_train, y_test = train_test_split(X, y, test_size=0.2, random_state=42) # test size = 0.2 ensures testing data is 20% and training data is 80%\n",
        "\n",
        "# scale data -why?   bcoz The features in the breast cancer dataset vary a lot in scale (some are in 100s, some in 0.01s). This causes large values when passed through a Linear layer → unstable outputs → unstable logits → unstable loss.\n",
        "scaler = StandardScaler()\n",
        "X_train = scaler.fit_transform(X_train)\n",
        "X_test = scaler.transform(X_test)"
      ],
      "metadata": {
        "colab": {
          "base_uri": "https://localhost:8080/"
        },
        "id": "VBodNd4h72p4",
        "outputId": "b754e290-99a0-4974-827c-f6d26f65e7fb"
      },
      "execution_count": 43,
      "outputs": [
        {
          "output_type": "stream",
          "name": "stdout",
          "text": [
            "number of samples: 569, number of features: 30\n"
          ]
        }
      ]
    },
    {
      "cell_type": "code",
      "source": [
        "# 1. Convert data into tensors\n",
        "\n",
        "X_train = torch.from_numpy(np.array(X_train, dtype = np.float32))\n",
        "X_test = torch.from_numpy(np.array(X_test, dtype = np.float32))\n",
        "y_train = torch.from_numpy(np.array(y_train, dtype = np.float32)).view(-1, 1)\n",
        "y_test = torch.from_numpy(np.array(y_test, dtype = np.float32)).view(-1, 1)"
      ],
      "metadata": {
        "id": "45d1flha8vsF"
      },
      "execution_count": 44,
      "outputs": []
    },
    {
      "cell_type": "code",
      "source": [
        "# 2. Build the model\n",
        "\n",
        "class LogisticRegressionModel(nn.Module):\n",
        "  def __init__(self, n_input_features):\n",
        "    super(LogisticRegressionModel, self).__init__()\n",
        "\n",
        "    self.linear = nn.Linear(n_input_features, 1) # n_input_features are number of features in the input data and 1 is bcoz logistic regression outputs a single value between 0 and 1 → the probability of class 1.\n",
        "\n",
        "  def forward(self, x):\n",
        "    return self.linear(x) # returns raw logits as output\n",
        "\n",
        "model = LogisticRegressionModel(n_features) # passing n_features here bcoz nn.Linear must know how many input features are there"
      ],
      "metadata": {
        "id": "gV3bLiBr-Iea"
      },
      "execution_count": 45,
      "outputs": []
    },
    {
      "cell_type": "code",
      "source": [
        "# 2.1 instantitate the loss function\n",
        "loss_fn = torch.nn.BCEWithLogitsLoss()\n",
        "\n",
        "# 2.1 instantiate optimization\n",
        "optimizer = torch.optim.SGD(model.parameters(), lr = 0.01)"
      ],
      "metadata": {
        "id": "cAoWyz6d-pMT"
      },
      "execution_count": 46,
      "outputs": []
    },
    {
      "cell_type": "code",
      "source": [
        "# 2.2 Training the loop\n",
        "\n",
        "epochs = 100\n",
        "\n",
        "for epoch in range(epochs):\n",
        "\n",
        "  # Forward Pass\n",
        "  y_preds = model(X_train)\n",
        "\n",
        "  # Calculate the loss\n",
        "  loss = loss_fn(y_preds, y_train)\n",
        "\n",
        "  # Optimize the zero grad\n",
        "  optimizer.zero_grad()\n",
        "\n",
        "  # Loss Backward\n",
        "  loss.backward()\n",
        "\n",
        "  # Optimizer step\n",
        "  optimizer.step()\n",
        "\n",
        "  if (epoch + 1) % 10 == 0:\n",
        "    print(f'epoch: {epoch + 1}, loss = {loss.item():.4f}')\n"
      ],
      "metadata": {
        "colab": {
          "base_uri": "https://localhost:8080/"
        },
        "id": "OiNAYMZgIefy",
        "outputId": "4e49a5d4-aa4e-4eff-c2eb-982ddce98818"
      },
      "execution_count": 47,
      "outputs": [
        {
          "output_type": "stream",
          "name": "stdout",
          "text": [
            "epoch: 10, loss = 0.5116\n",
            "epoch: 20, loss = 0.4406\n",
            "epoch: 30, loss = 0.3919\n",
            "epoch: 40, loss = 0.3563\n",
            "epoch: 50, loss = 0.3290\n",
            "epoch: 60, loss = 0.3073\n",
            "epoch: 70, loss = 0.2896\n",
            "epoch: 80, loss = 0.2747\n",
            "epoch: 90, loss = 0.2621\n",
            "epoch: 100, loss = 0.2511\n"
          ]
        }
      ]
    },
    {
      "cell_type": "code",
      "source": [
        "# 3. Evaluating the model\n",
        "\n",
        "with torch.no_grad():\n",
        "  y_preds = torch.sigmoid(model(X_test))\n",
        "  y_preds_cls = y_preds.round() # Converts the predicted probabilities into binary class labels (0 or 1).\n",
        "  acc = y_preds_cls.eq(y_test).sum() / float(y_test.shape[0]) #The accuracy is determined by counting the correct predictions and dividing by the total number of samples in the test set.\n",
        "  print(f'accuracy = {acc:.4f}')"
      ],
      "metadata": {
        "colab": {
          "base_uri": "https://localhost:8080/"
        },
        "id": "GcHksAonLOYX",
        "outputId": "642253e1-3852-4d5b-a035-e4a3ab1a554f"
      },
      "execution_count": 48,
      "outputs": [
        {
          "output_type": "stream",
          "name": "stdout",
          "text": [
            "accuracy = 0.9737\n"
          ]
        }
      ]
    },
    {
      "cell_type": "code",
      "source": [],
      "metadata": {
        "id": "dCZOaxP5R6Pt"
      },
      "execution_count": null,
      "outputs": []
    }
  ]
}